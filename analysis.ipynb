{
  "cells": [
    {
      "cell_type": "markdown",
      "metadata": {},
      "source": [
        "# Muon vs. AdamW Experiment Analysis\n",
        "\n",
        "This notebook analyzes the results of the OMat24 experiments, comparing the performance and learning geometry of the Muon optimizer against AdamW.\n"
      ]
    },
    {
      "cell_type": "code",
      "execution_count": null,
      "metadata": {},
      "outputs": [
        {
          "ename": "",
          "evalue": "",
          "output_type": "error",
          "traceback": [
            "\u001b[1;31mRunning cells with '.venv (Python 3.13.7)' requires the ipykernel package.\n",
            "\u001b[1;31mInstall 'ipykernel' into the Python environment. \n",
            "\u001b[1;31mCommand: '/Users/mardiaarnav/Desktop/Projects/muon/.venv/bin/python -m pip install ipykernel -U --force-reinstall'"
          ]
        }
      ],
      "source": [
        "%pip install pandas matplotlib seaborn\n"
      ]
    },
    {
      "cell_type": "code",
      "execution_count": null,
      "metadata": {},
      "outputs": [],
      "source": [
        "import pandas as pd\n",
        "import matplotlib.pyplot as plt\n",
        "import seaborn as sns\n",
        "\n",
        "# Load the metrics data\n",
        "try:\n",
        "    df = pd.read_csv('results/metrics.csv')\n",
        "    # The first run has a generic name, let's rename it for clarity\n",
        "    df['run'] = df['run'].replace('1', 'omat24_baseline')\n",
        "    print(\"Data loaded successfully.\")\n",
        "    display(df.head())\n",
        "except FileNotFoundError:\n",
        "    print(\"Error: results/metrics.csv not found.\")\n",
        "    print(\"Please make sure you have run the experiments first.\")\n",
        "\n",
        "# Set plot style\n",
        "sns.set_theme(style=\"whitegrid\")\n"
      ]
    },
    {
      "cell_type": "code",
      "execution_count": null,
      "metadata": {},
      "outputs": [],
      "source": [
        "plt.figure(figsize=(12, 8))\n",
        "ax = sns.lineplot(data=df, x='epoch', y='val_mae', hue='run', marker='o')\n",
        "\n",
        "ax.set_title('Validation MAE vs. Epoch for Different Optimizers', fontsize=16)\n",
        "ax.set_xlabel('Epoch', fontsize=12)\n",
        "ax.set_ylabel('Validation Mean Absolute Error (MAE)', fontsize=12)\n",
        "ax.legend(title='Optimizer Run')\n",
        "\n",
        "# Annotate the minimum MAE for each run\n",
        "for run_name in df['run'].unique():\n",
        "    run_df = df[df['run'] == run_name]\n",
        "    min_mae_epoch = run_df.loc[run_df['val_mae'].idxmin()]\n",
        "    \n",
        "    plt.annotate(f'{min_mae_epoch[\"val_mae\"]:.4f}',\n",
        "                 (min_mae_epoch['epoch'], min_mae_epoch['val_mae']),\n",
        "                 textcoords=\"offset points\",\n",
        "                 xytext=(0,10),\n",
        "                 ha='center',\n",
        "                 arrowprops=dict(arrowstyle=\"->\", connectionstyle=\"arc3,rad=.2\"))\n",
        "\n",
        "plt.tight_layout()\n",
        "plt.show()\n"
      ]
    }
  ],
  "metadata": {
    "kernelspec": {
      "display_name": ".venv",
      "language": "python",
      "name": "python3"
    },
    "language_info": {
      "name": "python",
      "version": "3.13.7"
    }
  },
  "nbformat": 4,
  "nbformat_minor": 2
}
