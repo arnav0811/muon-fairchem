{
  "cells": [
    {
      "cell_type": "markdown",
      "metadata": {},
      "source": [
        "# Muon vs. AdamW Experiment Analysis\n",
        "\n",
        "This notebook analyzes the results of the OMat24 experiments, comparing the performance and learning geometry of the Muon optimizer against AdamW.\n"
      ]
    },
    {
      "cell_type": "markdown",
      "metadata": {},
      "source": []
    },
    {
      "cell_type": "code",
      "execution_count": 1,
      "metadata": {},
      "outputs": [
        {
          "ename": "ParserError",
          "evalue": "Error tokenizing data. C error: Expected 6 fields in line 126, saw 9\n",
          "output_type": "error",
          "traceback": [
            "\u001b[31m---------------------------------------------------------------------------\u001b[39m",
            "\u001b[31mParserError\u001b[39m                               Traceback (most recent call last)",
            "\u001b[36mCell\u001b[39m\u001b[36m \u001b[39m\u001b[32mIn[1]\u001b[39m\u001b[32m, line 8\u001b[39m\n\u001b[32m      6\u001b[39m \u001b[38;5;66;03m# Load the metrics data\u001b[39;00m\n\u001b[32m      7\u001b[39m \u001b[38;5;28;01mtry\u001b[39;00m:\n\u001b[32m----> \u001b[39m\u001b[32m8\u001b[39m     df_full = \u001b[43mpd\u001b[49m\u001b[43m.\u001b[49m\u001b[43mread_csv\u001b[49m\u001b[43m(\u001b[49m\u001b[33;43m'\u001b[39;49m\u001b[33;43mresults/metrics.csv\u001b[39;49m\u001b[33;43m'\u001b[39;49m\u001b[43m)\u001b[49m\n\u001b[32m     10\u001b[39m     \u001b[38;5;66;03m# The first unnamed run is the baseline, let's give it a proper name\u001b[39;00m\n\u001b[32m     11\u001b[39m     \u001b[38;5;66;03m# Find the row where the run name changes to identify the end of the first run\u001b[39;00m\n\u001b[32m     12\u001b[39m     first_run_end_idx = df_full[df_full[\u001b[33m'\u001b[39m\u001b[33mrun\u001b[39m\u001b[33m'\u001b[39m] != df_full[\u001b[33m'\u001b[39m\u001b[33mrun\u001b[39m\u001b[33m'\u001b[39m].iloc[\u001b[32m0\u001b[39m]].index[\u001b[32m0\u001b[39m]\n",
            "\u001b[36mFile \u001b[39m\u001b[32m~/Desktop/Projects/muon/.venv/lib/python3.13/site-packages/pandas/io/parsers/readers.py:1026\u001b[39m, in \u001b[36mread_csv\u001b[39m\u001b[34m(filepath_or_buffer, sep, delimiter, header, names, index_col, usecols, dtype, engine, converters, true_values, false_values, skipinitialspace, skiprows, skipfooter, nrows, na_values, keep_default_na, na_filter, verbose, skip_blank_lines, parse_dates, infer_datetime_format, keep_date_col, date_parser, date_format, dayfirst, cache_dates, iterator, chunksize, compression, thousands, decimal, lineterminator, quotechar, quoting, doublequote, escapechar, comment, encoding, encoding_errors, dialect, on_bad_lines, delim_whitespace, low_memory, memory_map, float_precision, storage_options, dtype_backend)\u001b[39m\n\u001b[32m   1013\u001b[39m kwds_defaults = _refine_defaults_read(\n\u001b[32m   1014\u001b[39m     dialect,\n\u001b[32m   1015\u001b[39m     delimiter,\n\u001b[32m   (...)\u001b[39m\u001b[32m   1022\u001b[39m     dtype_backend=dtype_backend,\n\u001b[32m   1023\u001b[39m )\n\u001b[32m   1024\u001b[39m kwds.update(kwds_defaults)\n\u001b[32m-> \u001b[39m\u001b[32m1026\u001b[39m \u001b[38;5;28;01mreturn\u001b[39;00m \u001b[43m_read\u001b[49m\u001b[43m(\u001b[49m\u001b[43mfilepath_or_buffer\u001b[49m\u001b[43m,\u001b[49m\u001b[43m \u001b[49m\u001b[43mkwds\u001b[49m\u001b[43m)\u001b[49m\n",
            "\u001b[36mFile \u001b[39m\u001b[32m~/Desktop/Projects/muon/.venv/lib/python3.13/site-packages/pandas/io/parsers/readers.py:626\u001b[39m, in \u001b[36m_read\u001b[39m\u001b[34m(filepath_or_buffer, kwds)\u001b[39m\n\u001b[32m    623\u001b[39m     \u001b[38;5;28;01mreturn\u001b[39;00m parser\n\u001b[32m    625\u001b[39m \u001b[38;5;28;01mwith\u001b[39;00m parser:\n\u001b[32m--> \u001b[39m\u001b[32m626\u001b[39m     \u001b[38;5;28;01mreturn\u001b[39;00m \u001b[43mparser\u001b[49m\u001b[43m.\u001b[49m\u001b[43mread\u001b[49m\u001b[43m(\u001b[49m\u001b[43mnrows\u001b[49m\u001b[43m)\u001b[49m\n",
            "\u001b[36mFile \u001b[39m\u001b[32m~/Desktop/Projects/muon/.venv/lib/python3.13/site-packages/pandas/io/parsers/readers.py:1923\u001b[39m, in \u001b[36mTextFileReader.read\u001b[39m\u001b[34m(self, nrows)\u001b[39m\n\u001b[32m   1916\u001b[39m nrows = validate_integer(\u001b[33m\"\u001b[39m\u001b[33mnrows\u001b[39m\u001b[33m\"\u001b[39m, nrows)\n\u001b[32m   1917\u001b[39m \u001b[38;5;28;01mtry\u001b[39;00m:\n\u001b[32m   1918\u001b[39m     \u001b[38;5;66;03m# error: \"ParserBase\" has no attribute \"read\"\u001b[39;00m\n\u001b[32m   1919\u001b[39m     (\n\u001b[32m   1920\u001b[39m         index,\n\u001b[32m   1921\u001b[39m         columns,\n\u001b[32m   1922\u001b[39m         col_dict,\n\u001b[32m-> \u001b[39m\u001b[32m1923\u001b[39m     ) = \u001b[38;5;28;43mself\u001b[39;49m\u001b[43m.\u001b[49m\u001b[43m_engine\u001b[49m\u001b[43m.\u001b[49m\u001b[43mread\u001b[49m\u001b[43m(\u001b[49m\u001b[43m  \u001b[49m\u001b[38;5;66;43;03m# type: ignore[attr-defined]\u001b[39;49;00m\n\u001b[32m   1924\u001b[39m \u001b[43m        \u001b[49m\u001b[43mnrows\u001b[49m\n\u001b[32m   1925\u001b[39m \u001b[43m    \u001b[49m\u001b[43m)\u001b[49m\n\u001b[32m   1926\u001b[39m \u001b[38;5;28;01mexcept\u001b[39;00m \u001b[38;5;167;01mException\u001b[39;00m:\n\u001b[32m   1927\u001b[39m     \u001b[38;5;28mself\u001b[39m.close()\n",
            "\u001b[36mFile \u001b[39m\u001b[32m~/Desktop/Projects/muon/.venv/lib/python3.13/site-packages/pandas/io/parsers/c_parser_wrapper.py:234\u001b[39m, in \u001b[36mCParserWrapper.read\u001b[39m\u001b[34m(self, nrows)\u001b[39m\n\u001b[32m    232\u001b[39m \u001b[38;5;28;01mtry\u001b[39;00m:\n\u001b[32m    233\u001b[39m     \u001b[38;5;28;01mif\u001b[39;00m \u001b[38;5;28mself\u001b[39m.low_memory:\n\u001b[32m--> \u001b[39m\u001b[32m234\u001b[39m         chunks = \u001b[38;5;28;43mself\u001b[39;49m\u001b[43m.\u001b[49m\u001b[43m_reader\u001b[49m\u001b[43m.\u001b[49m\u001b[43mread_low_memory\u001b[49m\u001b[43m(\u001b[49m\u001b[43mnrows\u001b[49m\u001b[43m)\u001b[49m\n\u001b[32m    235\u001b[39m         \u001b[38;5;66;03m# destructive to chunks\u001b[39;00m\n\u001b[32m    236\u001b[39m         data = _concatenate_chunks(chunks)\n",
            "\u001b[36mFile \u001b[39m\u001b[32mpandas/_libs/parsers.pyx:838\u001b[39m, in \u001b[36mpandas._libs.parsers.TextReader.read_low_memory\u001b[39m\u001b[34m()\u001b[39m\n",
            "\u001b[36mFile \u001b[39m\u001b[32mpandas/_libs/parsers.pyx:905\u001b[39m, in \u001b[36mpandas._libs.parsers.TextReader._read_rows\u001b[39m\u001b[34m()\u001b[39m\n",
            "\u001b[36mFile \u001b[39m\u001b[32mpandas/_libs/parsers.pyx:874\u001b[39m, in \u001b[36mpandas._libs.parsers.TextReader._tokenize_rows\u001b[39m\u001b[34m()\u001b[39m\n",
            "\u001b[36mFile \u001b[39m\u001b[32mpandas/_libs/parsers.pyx:891\u001b[39m, in \u001b[36mpandas._libs.parsers.TextReader._check_tokenize_status\u001b[39m\u001b[34m()\u001b[39m\n",
            "\u001b[36mFile \u001b[39m\u001b[32mpandas/_libs/parsers.pyx:2061\u001b[39m, in \u001b[36mpandas._libs.parsers.raise_parser_error\u001b[39m\u001b[34m()\u001b[39m\n",
            "\u001b[31mParserError\u001b[39m: Error tokenizing data. C error: Expected 6 fields in line 126, saw 9\n"
          ]
        }
      ],
      "source": [
        "import pandas as pd\n",
        "import matplotlib.pyplot as plt\n",
        "import seaborn as sns\n",
        "import numpy as np\n",
        "\n",
        "# Load the metrics data\n",
        "try:\n",
        "    df_full = pd.read_csv('results/metrics.csv')\n",
        "    \n",
        "    # The first unnamed run is the baseline, let's give it a proper name\n",
        "    # Find the row where the run name changes to identify the end of the first run\n",
        "    first_run_end_idx = df_full[df_full['run'] != df_full['run'].iloc[0]].index[0]\n",
        "    df_full.loc[:first_run_end_idx-1, 'run'] = 'omat24_baseline'\n",
        "\n",
        "    print(\"Data loaded successfully.\")\n",
        "    display(df_full.head())\n",
        "    print(\"\\nFinal epoch metrics for each run:\")\n",
        "    display(df_full.groupby('run').last())\n",
        "\n",
        "except FileNotFoundError:\n",
        "    print(\"Error: results/metrics.csv not found.\")\n",
        "    print(\"Please make sure you have downloaded the results from the GPU.\")\n",
        "except IndexError:\n",
        "    print(\"Warning: Could not automatically rename the baseline run. The CSV might only contain one experiment type.\")\n",
        "    display(df_full.head())\n",
        "\n",
        "\n",
        "# Set plot style\n",
        "sns.set_theme(style=\"whitegrid\")\n"
      ]
    },
    {
      "cell_type": "code",
      "execution_count": null,
      "metadata": {},
      "outputs": [],
      "source": [
        "plt.figure(figsize=(12, 8))\n",
        "ax = sns.lineplot(data=df_full, x='epoch', y='val_mae', hue='run', marker='o', alpha=0.8)\n",
        "\n",
        "ax.set_title('Validation MAE vs. Epoch for Different Optimizers', fontsize=16)\n",
        "ax.set_xlabel('Epoch', fontsize=12)\n",
        "ax.set_ylabel('Validation Mean Absolute Error (MAE)', fontsize=12)\n",
        "ax.legend(title='Optimizer Run')\n",
        "ax.set_yscale('log')\n",
        "ax.grid(True, which=\"both\", ls=\"--\")\n",
        "\n",
        "\n",
        "# Annotate the minimum MAE for each run\n",
        "for run_name in df_full['run'].unique():\n",
        "    run_df = df_full[df_full['run'] == run_name].dropna(subset=['val_mae'])\n",
        "    if not run_df.empty:\n",
        "        min_mae_row = run_df.loc[run_df['val_mae'].idxmin()]\n",
        "        \n",
        "        plt.annotate(f'{min_mae_row[\"val_mae\"]:.4f}',\n",
        "                     (min_mae_row['epoch'], min_mae_row['val_mae']),\n",
        "                     textcoords=\"offset points\",\n",
        "                     xytext=(0,10),\n",
        "                     ha='center',\n",
        "                     arrowprops=dict(arrowstyle=\"->\", connectionstyle=\"arc3,rad=.2\"))\n",
        "\n",
        "plt.tight_layout()\n",
        "plt.show()\n"
      ]
    },
    {
      "cell_type": "code",
      "execution_count": null,
      "metadata": {},
      "outputs": [],
      "source": [
        "# Manually create a DataFrame with the final test set results from the eval script\n",
        "test_results = {\n",
        "    \"run\": [\n",
        "        \"omat24_baseline\",\n",
        "        \"omat24_muon_full\",\n",
        "        \"omat24_muon_no_ortho\",\n",
        "        \"omat24_muon_firstk\",\n",
        "    ],\n",
        "    \"Final Test MAE\": [0.3296, 0.4087, 0.3844, 0.3238],\n",
        "    \"Final Test RMSE\": [0.4183, 0.5095, 0.4737, 0.4107],\n",
        "}\n",
        "df_test = pd.DataFrame(test_results)\n",
        "\n",
        "print(\"--- Final Test Set Performance ---\")\n",
        "# Sort by the most important metric to see the winner clearly\n",
        "display(df_test.sort_values(\"Final Test MAE\"))\n"
      ]
    },
    {
      "cell_type": "code",
      "execution_count": null,
      "metadata": {},
      "outputs": [],
      "source": [
        "# Clean up run names for plotting\n",
        "df_test['run_label'] = df_test['run'].str.replace('omat24_', '').str.replace('_', ' ').str.title()\n",
        "\n",
        "# Create the bar plot\n",
        "plt.figure(figsize=(12, 7))\n",
        "ax = sns.barplot(data=df_test.sort_values(\"Final Test MAE\"), \n",
        "                 x='run_label', y='Final Test MAE', \n",
        "                 hue='run_label', palette='plasma', dodge=False)\n",
        "\n",
        "ax.set_title('Final Test Set MAE by Optimizer Strategy', fontsize=16)\n",
        "ax.set_xlabel('Optimizer Strategy', fontsize=12)\n",
        "ax.set_ylabel('Final Mean Absolute Error (MAE)', fontsize=12)\n",
        "plt.xticks(rotation=15, ha='right')\n",
        "ax.get_legend().remove() # Remove redundant legend\n",
        "\n",
        "# Add annotations to the bars\n",
        "for p in ax.patches:\n",
        "    ax.annotate(f'{p.get_height():.4f}', \n",
        "                (p.get_x() + p.get_width() / 2., p.get_height()), \n",
        "                ha = 'center', va = 'center', \n",
        "                xytext = (0, 9), \n",
        "                textcoords = 'offset points',\n",
        "                fontsize=12, weight='bold')\n",
        "\n",
        "plt.tight_layout()\n",
        "plt.show()\n"
      ]
    },
    {
      "cell_type": "code",
      "execution_count": null,
      "metadata": {},
      "outputs": [],
      "source": []
    },
    {
      "cell_type": "code",
      "execution_count": null,
      "metadata": {},
      "outputs": [],
      "source": [
        "# Extract the final epoch metrics for each run\n",
        "final_metrics = df_full.groupby('run').last().reset_index()\n",
        "\n",
        "# Select only the rattle MAE columns\n",
        "rattle_mae_cols = ['val_mae_low_rattle', 'val_mae_medium_rattle', 'val_mae_high_rattle']\n",
        "plot_data = final_metrics[['run'] + rattle_mae_cols]\n",
        "\n",
        "# Melt the dataframe to make it suitable for a bar plot\n",
        "plot_data_melted = plot_data.melt(id_vars='run', var_name='Rattle Level', value_name='Final MAE')\n",
        "\n",
        "# Clean up the names for the plot\n",
        "plot_data_melted['Rattle Level'] = plot_data_melted['Rattle Level'].str.replace('val_mae_', '').str.replace('_', ' ').str.title()\n",
        "\n",
        "# Create the bar plot\n",
        "plt.figure(figsize=(14, 8))\n",
        "ax = sns.barplot(data=plot_data_melted, x='run', y='Final MAE', hue='Rattle Level', palette='viridis')\n",
        "\n",
        "ax.set_title('Final Validation MAE by Optimizer and Structure Rattle Level', fontsize=16)\n",
        "ax.set_xlabel('Optimizer Run', fontsize=12)\n",
        "ax.set_ylabel('Final Validation MAE', fontsize=12)\n",
        "plt.xticks(rotation=15, ha='right')\n",
        "\n",
        "# Add annotations to the bars\n",
        "for p in ax.patches:\n",
        "    if p.get_height() > 0:\n",
        "        ax.annotate(f'{p.get_height():.4f}', \n",
        "                    (p.get_x() + p.get_width() / 2., p.get_height()), \n",
        "                    ha = 'center', va = 'center', \n",
        "                    xytext = (0, 9), \n",
        "                    textcoords = 'offset points')\n",
        "\n",
        "plt.tight_layout()\n",
        "plt.show()\n"
      ]
    }
  ],
  "metadata": {
    "kernelspec": {
      "display_name": ".venv",
      "language": "python",
      "name": "python3"
    },
    "language_info": {
      "codemirror_mode": {
        "name": "ipython",
        "version": 3
      },
      "file_extension": ".py",
      "mimetype": "text/x-python",
      "name": "python",
      "nbconvert_exporter": "python",
      "pygments_lexer": "ipython3",
      "version": "3.13.7"
    }
  },
  "nbformat": 4,
  "nbformat_minor": 2
}
